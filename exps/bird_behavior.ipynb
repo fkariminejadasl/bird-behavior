{
  "nbformat": 4,
  "nbformat_minor": 0,
  "metadata": {
    "colab": {
      "provenance": [],
      "authorship_tag": "ABX9TyO6gW0Sj8CeJRePuBA/SHbX",
      "include_colab_link": true
    },
    "kernelspec": {
      "name": "python3",
      "display_name": "Python 3"
    },
    "language_info": {
      "name": "python"
    }
  },
  "cells": [
    {
      "cell_type": "markdown",
      "metadata": {
        "id": "view-in-github",
        "colab_type": "text"
      },
      "source": [
        "<a href=\"https://colab.research.google.com/github/fkariminejadasl/bird-behavior/blob/make_features/exps/bird_behavior.ipynb\" target=\"_parent\"><img src=\"https://colab.research.google.com/assets/colab-badge.svg\" alt=\"Open In Colab\"/></a>"
      ]
    },
    {
      "cell_type": "code",
      "execution_count": 3,
      "metadata": {
        "colab": {
          "base_uri": "https://localhost:8080/",
          "height": 497
        },
        "id": "WCOcelMSkFP9",
        "outputId": "98c7c8ff-86d4-4355-cbca-eb889cd334d3"
      },
      "outputs": [
        {
          "output_type": "execute_result",
          "data": {
            "text/plain": [
              "<PIL.Image.Image image mode=P size=640x480>"
            ],
            "image/png": "[encoded data removed]"
          },
          "metadata": {},
          "execution_count": 3
        }
      ],
      "source": [
        "import requests\n",
        "from PIL import Image\n",
        "from io import BytesIO\n",
        "import math\n",
        "import numpy as np\n",
        "\n",
        "# https://wiki.openstreetmap.org/wiki/Slippy_map_tilenames#Lon./lat._to_tile_numbers_2\n",
        "def deg2num(lat_deg, lon_deg, zoom):\n",
        "  lat_rad = math.radians(lat_deg)\n",
        "  n = 1 << zoom # 2**zoom\n",
        "  xtile = int((lon_deg + 180.0) / 360.0 * n)\n",
        "  ytile = int((1.0 - math.asinh(math.tan(lat_rad)) / math.pi) / 2.0 * n)\n",
        "  return xtile, ytile\n",
        "\n",
        "def get_osm_map_image(lat, lon, zoom=15, width=640, height=480):\n",
        "    base_url = \"https://tile.openstreetmap.org/{}/{}/{}.png\"\n",
        "\n",
        "    # Calculate tile coordinates\n",
        "    xtile, ytile = deg2num(lat, lon, zoom)\n",
        "\n",
        "    # Construct the URL\n",
        "    url = base_url.format(zoom, xtile, ytile)\n",
        "\n",
        "    # Make the request\n",
        "    headers = {\"User-Agent\": \"YourAppName/1.0 (your@email.com)\"}\n",
        "    response = requests.get(url, headers=headers)\n",
        "\n",
        "    if response.status_code == 200:\n",
        "        # Open the image using PIL\n",
        "        image = Image.open(BytesIO(response.content))\n",
        "        # Resize the image if needed\n",
        "        image = image.resize((width, height))\n",
        "        return image\n",
        "    else:\n",
        "        print(f\"Error: {response.status_code}, {response.text}\")\n",
        "        return None\n",
        "\n",
        "# Example usage:\n",
        "lat, lon = 52.36977, 4.9954\n",
        "# latitude = 37.7749  # Example: San Francisco\n",
        "# longitude = -122.4194\n",
        "map_image = get_osm_map_image(lat, lon, zoom=15)\n",
        "\n",
        "map_image"
      ]
    },
    {
      "cell_type": "code",
      "source": [
        "image = np.array(map_image.convert('RGB'))\n",
        "image[...,0], image[...,1], image[...,2]\n",
        "mimage = np.mean(np.mean(image, axis=0), axis=0)\n",
        "mimage"
      ],
      "metadata": {
        "colab": {
          "base_uri": "https://localhost:8080/"
        },
        "id": "QSqvuWupkSj3",
        "outputId": "1228356d-c693-415c-f0db-efed395d4043"
      },
      "execution_count": 4,
      "outputs": [
        {
          "output_type": "execute_result",
          "data": {
            "text/plain": [
              "array([169.59025716, 210.73873698, 222.11263997])"
            ]
          },
          "metadata": {},
          "execution_count": 4
        }
      ]
    }
  ]
}