{
  "cells": [
    {
      "cell_type": "markdown",
      "metadata": {
        "id": "view-in-github",
        "colab_type": "text"
      },
      "source": [
        "<a href=\"https://colab.research.google.com/github/fkariminejadasl/bird-behavior/blob/main/notebooks/classify_birds.ipynb\" target=\"_parent\"><img src=\"https://colab.research.google.com/assets/colab-badge.svg\" alt=\"Open In Colab\"/></a>"
      ]
    },
    {
      "cell_type": "code",
      "execution_count": null,
      "metadata": {
        "id": "X0deviy1x5WZ"
      },
      "outputs": [],
      "source": [
        "%cd /content\n",
        "!git clone https://github.com/fkariminejadasl/bird-behavior\n",
        "%cd /content/bird-behavior"
      ]
    },
    {
      "cell_type": "code",
      "execution_count": null,
      "metadata": {
        "id": "UPDfcsBdx99n"
      },
      "outputs": [],
      "source": [
        "!pip install -r requirements.txt\n",
        "!pip install -e ."
      ]
    },
    {
      "cell_type": "code",
      "execution_count": null,
      "metadata": {
        "id": "hcLDN0jZyE2O"
      },
      "outputs": [],
      "source": [
        "!pip install -U gdown requests"
      ]
    },
    {
      "cell_type": "code",
      "execution_count": null,
      "metadata": {
        "id": "PMshJmsqzI6U"
      },
      "outputs": [],
      "source": [
        "# Download model\n",
        "!gdown 1L011OPlz9xXQRZCMyWTTIIQIG7jgM6Im --output /content/45_best.pth # model"
      ]
    },
    {
      "cell_type": "code",
      "source": [
        "# Download example input\n",
        "!gdown 1PNiDj7ZNT3OPOpaWDyK97LlE0gZixw1V --output /content/input.csv"
      ],
      "metadata": {
        "id": "-rk7QHSBwwMW"
      },
      "execution_count": null,
      "outputs": []
    },
    {
      "cell_type": "code",
      "execution_count": null,
      "metadata": {
        "id": "_ZoS0eKAzNfq"
      },
      "outputs": [],
      "source": [
        "# Change config/classification.yaml\n",
        "!python /content/bird-behavior/scripts/classify_birds.py /content/bird-behavior/configs/classification.yaml"
      ]
    }
  ],
  "metadata": {
    "colab": {
      "provenance": [],
      "include_colab_link": true
    },
    "kernelspec": {
      "display_name": "Python 3",
      "name": "python3"
    },
    "language_info": {
      "name": "python"
    }
  },
  "nbformat": 4,
  "nbformat_minor": 0
}